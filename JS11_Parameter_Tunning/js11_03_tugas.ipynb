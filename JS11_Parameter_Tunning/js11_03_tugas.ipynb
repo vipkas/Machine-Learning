{
 "cells": [
  {
   "cell_type": "markdown",
   "metadata": {},
   "source": [
    "## Tugas\n",
    "\n",
    "1. Menggunakan data (WBC) dan alogirtma yang sama (DT) pada jobsheet js11_02, silahkan implemnetasikan ulang teknik *exhausive search* dengan menggunakan ***random search***. Scikit-learn sudah menyediakan fungsi ini.\n",
    "\n",
    "2. Menggunakan data yang sama, lakukan tunning dengan menggunakan algoritma SVM. Hyperparamter yang akan ditunning adalah,\n",
    "    - kernel (linier, polinomial, rbf)\n",
    "    - degree (akan berdampak jika polinomial)\n",
    "    - koefisien C (regularization)"
   ]
  },
  {
   "cell_type": "code",
   "execution_count": null,
   "metadata": {},
   "outputs": [],
   "source": []
  }
 ],
 "metadata": {
  "language_info": {
   "name": "python"
  },
  "orig_nbformat": 4
 },
 "nbformat": 4,
 "nbformat_minor": 2
}
