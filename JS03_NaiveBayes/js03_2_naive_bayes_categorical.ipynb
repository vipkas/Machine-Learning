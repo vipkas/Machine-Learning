{
 "cells": [
  {
   "cell_type": "markdown",
   "metadata": {},
   "source": [
    "# Naive Bayes dengan Data Kategorikal\n",
    "\n",
    "Pada percobaan kedua ini, kita akan menggunakan data riil untuk melakukan klasifikasi dengan Naive Bayes. Data yang digunakan adalah **salary.xlsx**. Data tersebut menggambarkan apakah seseorang akan memiliki gaji lebih dari $100K berdasarkan perusahaan tempat bekerja, jenis pekerjaan, dan tingkat pendidikan."
   ]
  },
  {
   "cell_type": "markdown",
   "metadata": {},
   "source": [
    "## Inspeksi Data\n",
    "\n",
    "Pada tahap ini kita akan melakukan loading data dan inspeksi data. Hal ini dilakukan untuk mengetahui apakah kita perlu melakukan proses pendahuluan sebelum melakukan training"
   ]
  },
  {
   "cell_type": "code",
   "execution_count": 1,
   "metadata": {},
   "outputs": [
    {
     "data": {
      "text/html": [
       "<div>\n",
       "<style scoped>\n",
       "    .dataframe tbody tr th:only-of-type {\n",
       "        vertical-align: middle;\n",
       "    }\n",
       "\n",
       "    .dataframe tbody tr th {\n",
       "        vertical-align: top;\n",
       "    }\n",
       "\n",
       "    .dataframe thead th {\n",
       "        text-align: right;\n",
       "    }\n",
       "</style>\n",
       "<table border=\"1\" class=\"dataframe\">\n",
       "  <thead>\n",
       "    <tr style=\"text-align: right;\">\n",
       "      <th></th>\n",
       "      <th>company</th>\n",
       "      <th>job</th>\n",
       "      <th>degree</th>\n",
       "      <th>salary_more_then_100k</th>\n",
       "    </tr>\n",
       "  </thead>\n",
       "  <tbody>\n",
       "    <tr>\n",
       "      <th>0</th>\n",
       "      <td>google</td>\n",
       "      <td>sales executive</td>\n",
       "      <td>bachelors</td>\n",
       "      <td>0</td>\n",
       "    </tr>\n",
       "    <tr>\n",
       "      <th>1</th>\n",
       "      <td>google</td>\n",
       "      <td>sales executive</td>\n",
       "      <td>masters</td>\n",
       "      <td>0</td>\n",
       "    </tr>\n",
       "    <tr>\n",
       "      <th>2</th>\n",
       "      <td>google</td>\n",
       "      <td>business manager</td>\n",
       "      <td>bachelors</td>\n",
       "      <td>1</td>\n",
       "    </tr>\n",
       "    <tr>\n",
       "      <th>3</th>\n",
       "      <td>google</td>\n",
       "      <td>business manager</td>\n",
       "      <td>masters</td>\n",
       "      <td>1</td>\n",
       "    </tr>\n",
       "    <tr>\n",
       "      <th>4</th>\n",
       "      <td>google</td>\n",
       "      <td>computer programmer</td>\n",
       "      <td>bachelors</td>\n",
       "      <td>0</td>\n",
       "    </tr>\n",
       "  </tbody>\n",
       "</table>\n",
       "</div>"
      ],
      "text/plain": [
       "  company                  job     degree  salary_more_then_100k\n",
       "0  google      sales executive  bachelors                      0\n",
       "1  google      sales executive    masters                      0\n",
       "2  google     business manager  bachelors                      1\n",
       "3  google     business manager    masters                      1\n",
       "4  google  computer programmer  bachelors                      0"
      ]
     },
     "execution_count": 1,
     "metadata": {},
     "output_type": "execute_result"
    }
   ],
   "source": [
    "import numpy as np\n",
    "import pandas as pd\n",
    "\n",
    "# Load data Excel ke Data Frame\n",
    "df = pd.read_excel('salary.xlsx')\n",
    "\n",
    "# Cek data\n",
    "df.head()"
   ]
  },
  {
   "cell_type": "markdown",
   "metadata": {},
   "source": [
    "Berdasarkan pengecekan data, terdapat data bernilai kategorial pada fitur (variabel) ***company***, ***job***, ***degree***. Kita harus melakukan encoding terhadap nilai dari fitur tersebut. Meskipun secara sekilas nilai kategorial menunjukkan tendesi ke tipe data nominal, namun kita tidak akan menggunakan tendik encoding One Hot Encoder atau Ordinal Encoder. Naive Bayes berkerja berdasarkan prinsip probabilitas berkelompok (_joint probability_). \n",
    "\n",
    "Hal ini membuat merepresentasikan nilai variabel dalam bentuk encoding sebetulnya tidak terlalu penting. Encoding diperlukan hanya untuk menamai ulang nilai kategori dalam bentuk angka dan kebutuhan library scikit-learn yang menggunakan angka sebagai parameter input.\n",
    "\n",
    "Percobaan kali ini merupakan penerapan klasik algoritma Naive Bayes. Perhatikan kembali contoh intuisi perhitungan Naive Bayes pada modul Jobsheet 3. Meskipun nilai asli dari fitur tidak diketahui, kita masih dapat melakukan proses klasifikasi dengan Naive Bayes."
   ]
  },
  {
   "cell_type": "markdown",
   "metadata": {},
   "source": [
    "## Tahap Persiapan\n",
    "\n",
    "Pada tahap ini kita akan melakukan beberapa hal, yaitu,\n",
    "\n",
    "1. Encoding nilai kategorikal untuk kebutuhan training\n",
    "2. Memisahkan fitur dan label\n",
    "3. Split data training dan testing"
   ]
  },
  {
   "cell_type": "markdown",
   "metadata": {},
   "source": [
    "### Encoding"
   ]
  },
  {
   "cell_type": "code",
   "execution_count": 2,
   "metadata": {},
   "outputs": [
    {
     "data": {
      "text/html": [
       "<div>\n",
       "<style scoped>\n",
       "    .dataframe tbody tr th:only-of-type {\n",
       "        vertical-align: middle;\n",
       "    }\n",
       "\n",
       "    .dataframe tbody tr th {\n",
       "        vertical-align: top;\n",
       "    }\n",
       "\n",
       "    .dataframe thead th {\n",
       "        text-align: right;\n",
       "    }\n",
       "</style>\n",
       "<table border=\"1\" class=\"dataframe\">\n",
       "  <thead>\n",
       "    <tr style=\"text-align: right;\">\n",
       "      <th></th>\n",
       "      <th>company</th>\n",
       "      <th>job</th>\n",
       "      <th>degree</th>\n",
       "      <th>salary_more_then_100k</th>\n",
       "    </tr>\n",
       "  </thead>\n",
       "  <tbody>\n",
       "    <tr>\n",
       "      <th>0</th>\n",
       "      <td>2</td>\n",
       "      <td>2</td>\n",
       "      <td>0</td>\n",
       "      <td>0</td>\n",
       "    </tr>\n",
       "    <tr>\n",
       "      <th>1</th>\n",
       "      <td>2</td>\n",
       "      <td>2</td>\n",
       "      <td>1</td>\n",
       "      <td>0</td>\n",
       "    </tr>\n",
       "    <tr>\n",
       "      <th>2</th>\n",
       "      <td>2</td>\n",
       "      <td>0</td>\n",
       "      <td>0</td>\n",
       "      <td>1</td>\n",
       "    </tr>\n",
       "    <tr>\n",
       "      <th>3</th>\n",
       "      <td>2</td>\n",
       "      <td>0</td>\n",
       "      <td>1</td>\n",
       "      <td>1</td>\n",
       "    </tr>\n",
       "    <tr>\n",
       "      <th>4</th>\n",
       "      <td>2</td>\n",
       "      <td>1</td>\n",
       "      <td>0</td>\n",
       "      <td>0</td>\n",
       "    </tr>\n",
       "    <tr>\n",
       "      <th>5</th>\n",
       "      <td>2</td>\n",
       "      <td>1</td>\n",
       "      <td>1</td>\n",
       "      <td>1</td>\n",
       "    </tr>\n",
       "    <tr>\n",
       "      <th>6</th>\n",
       "      <td>0</td>\n",
       "      <td>2</td>\n",
       "      <td>1</td>\n",
       "      <td>0</td>\n",
       "    </tr>\n",
       "    <tr>\n",
       "      <th>7</th>\n",
       "      <td>0</td>\n",
       "      <td>1</td>\n",
       "      <td>0</td>\n",
       "      <td>0</td>\n",
       "    </tr>\n",
       "    <tr>\n",
       "      <th>8</th>\n",
       "      <td>0</td>\n",
       "      <td>0</td>\n",
       "      <td>0</td>\n",
       "      <td>0</td>\n",
       "    </tr>\n",
       "    <tr>\n",
       "      <th>9</th>\n",
       "      <td>0</td>\n",
       "      <td>0</td>\n",
       "      <td>1</td>\n",
       "      <td>1</td>\n",
       "    </tr>\n",
       "    <tr>\n",
       "      <th>10</th>\n",
       "      <td>1</td>\n",
       "      <td>2</td>\n",
       "      <td>0</td>\n",
       "      <td>1</td>\n",
       "    </tr>\n",
       "    <tr>\n",
       "      <th>11</th>\n",
       "      <td>1</td>\n",
       "      <td>2</td>\n",
       "      <td>1</td>\n",
       "      <td>1</td>\n",
       "    </tr>\n",
       "    <tr>\n",
       "      <th>12</th>\n",
       "      <td>1</td>\n",
       "      <td>0</td>\n",
       "      <td>0</td>\n",
       "      <td>1</td>\n",
       "    </tr>\n",
       "    <tr>\n",
       "      <th>13</th>\n",
       "      <td>1</td>\n",
       "      <td>0</td>\n",
       "      <td>1</td>\n",
       "      <td>1</td>\n",
       "    </tr>\n",
       "    <tr>\n",
       "      <th>14</th>\n",
       "      <td>1</td>\n",
       "      <td>1</td>\n",
       "      <td>0</td>\n",
       "      <td>1</td>\n",
       "    </tr>\n",
       "    <tr>\n",
       "      <th>15</th>\n",
       "      <td>1</td>\n",
       "      <td>1</td>\n",
       "      <td>1</td>\n",
       "      <td>1</td>\n",
       "    </tr>\n",
       "  </tbody>\n",
       "</table>\n",
       "</div>"
      ],
      "text/plain": [
       "    company  job  degree  salary_more_then_100k\n",
       "0         2    2       0                      0\n",
       "1         2    2       1                      0\n",
       "2         2    0       0                      1\n",
       "3         2    0       1                      1\n",
       "4         2    1       0                      0\n",
       "5         2    1       1                      1\n",
       "6         0    2       1                      0\n",
       "7         0    1       0                      0\n",
       "8         0    0       0                      0\n",
       "9         0    0       1                      1\n",
       "10        1    2       0                      1\n",
       "11        1    2       1                      1\n",
       "12        1    0       0                      1\n",
       "13        1    0       1                      1\n",
       "14        1    1       0                      1\n",
       "15        1    1       1                      1"
      ]
     },
     "execution_count": 2,
     "metadata": {},
     "output_type": "execute_result"
    }
   ],
   "source": [
    "# Encoding\n",
    "# Fungsi encoding yang akan digunakan adalah LabelEncoder\n",
    "# Hal ini karena kita hanya mengganti nilai variabel dari nama berupa string menjadi angka. Sama halnya dengan label\n",
    "\n",
    "from sklearn.preprocessing import LabelEncoder\n",
    "\n",
    "# Inisiasi label encoder\n",
    "encode = LabelEncoder()\n",
    "\n",
    "# Terpakan label encoder\n",
    "df['company'] = encode.fit_transform(df['company'])\n",
    "df['job'] = encode.fit_transform(df['job'])\n",
    "df['degree'] = encode.fit_transform(df['degree'])\n",
    "\n",
    "# Cek hasil\n",
    "df"
   ]
  },
  {
   "cell_type": "markdown",
   "metadata": {},
   "source": [
    "### Memisahkan Fitur dan Label"
   ]
  },
  {
   "cell_type": "code",
   "execution_count": 4,
   "metadata": {},
   "outputs": [],
   "source": [
    "X = df.iloc[:, :-1] # fitur\n",
    "y = df.iloc[:, -1] # label"
   ]
  },
  {
   "cell_type": "markdown",
   "metadata": {},
   "source": [
    "### Split Data Training dan Testing"
   ]
  },
  {
   "cell_type": "code",
   "execution_count": 7,
   "metadata": {},
   "outputs": [],
   "source": [
    "from sklearn.model_selection import train_test_split\n",
    "\n",
    "X_train, X_test, y_train, y_test = train_test_split(X, y, test_size=0.3, random_state=10)"
   ]
  },
  {
   "cell_type": "markdown",
   "metadata": {},
   "source": [
    "## Training dan Evaluasi Model"
   ]
  },
  {
   "cell_type": "code",
   "execution_count": 8,
   "metadata": {},
   "outputs": [
    {
     "name": "stdout",
     "output_type": "stream",
     "text": [
      "Hasil akurasi data train: 0.8181818181818182\n",
      "Hasil akurasi data test: 0.6\n"
     ]
    }
   ],
   "source": [
    "# Kita akan menggunakan CategoricalNB untuk kasus ini\n",
    "from sklearn.naive_bayes import CategoricalNB\n",
    "from sklearn.metrics import accuracy_score\n",
    "\n",
    "# Inisasi CategoricalNB\n",
    "cnb = CategoricalNB()\n",
    "\n",
    "# Fit model\n",
    "# Label y harus dalam bentuk 1D atau (n_samples,)\n",
    "cnb.fit(X_train, y_train)\n",
    "\n",
    "# Prediksi dengan data training\n",
    "y_train_pred = cnb.predict(X_train)\n",
    "\n",
    "# Evaluasi akurasi training\n",
    "acc_train = accuracy_score(y_train, y_train_pred)\n",
    "\n",
    "# Prediksi test data\n",
    "y_test_pred = cnb.predict(X_test)\n",
    "\n",
    "# Evaluasi model dengan metric akurasi\n",
    "acc_test = accuracy_score(y_test, y_test_pred)\n",
    "\n",
    "# Print hasil evaluasi\n",
    "print(f'Hasil akurasi data train: {acc_train}')\n",
    "print(f'Hasil akurasi data test: {acc_test}')"
   ]
  },
  {
   "cell_type": "code",
   "execution_count": null,
   "metadata": {},
   "outputs": [],
   "source": []
  }
 ],
 "metadata": {
  "kernelspec": {
   "display_name": "Python 3.9.5 64-bit",
   "language": "python",
   "name": "python3"
  },
  "language_info": {
   "codemirror_mode": {
    "name": "ipython",
    "version": 3
   },
   "file_extension": ".py",
   "mimetype": "text/x-python",
   "name": "python",
   "nbconvert_exporter": "python",
   "pygments_lexer": "ipython3",
   "version": "3.9.5"
  },
  "orig_nbformat": 4,
  "vscode": {
   "interpreter": {
    "hash": "aee8b7b246df8f9039afb4144a1f6fd8d2ca17a180786b69acc140d282b71a49"
   }
  }
 },
 "nbformat": 4,
 "nbformat_minor": 2
}
