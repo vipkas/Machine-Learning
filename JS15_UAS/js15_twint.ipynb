{
 "cells": [
  {
   "cell_type": "code",
   "execution_count": null,
   "metadata": {},
   "outputs": [],
   "source": [
    "# Install Package\n",
    "!pip install twint\n",
    "!pip install nest_asyncio\n",
    "\n",
    "# Fix Issue with twint 20.1.20 from pip --> upgrade to 20.1.21 directly from git\n",
    "!pip install --upgrade -e git+https://github.com/twintproject/twint.git@origin/master#egg=twint"
   ]
  },
  {
   "cell_type": "code",
   "execution_count": null,
   "metadata": {},
   "outputs": [],
   "source": [
    "import twint\n",
    "import nest_asyncio\n",
    "nest_asyncio.apply()\n",
    "\n",
    "# inisiasi obyek\n",
    "c = twint.Config()\n",
    "\n",
    "# config scrap\n",
    "c.Username = \"collegemenfess\"\n",
    "# c.Since = \"2022-12-02\"\n",
    "# c.Until = \"2022-12-05\"\n",
    "c.Limit = 100\n",
    "c.Store_csv = True\n",
    "c.Output = \"colle_scrap.csv\"\n",
    "\n",
    "# run scrap\n",
    "twint.run.Search(c)"
   ]
  }
 ],
 "metadata": {
  "kernelspec": {
   "display_name": "Python 3.8.2 ('base')",
   "language": "python",
   "name": "python3"
  },
  "language_info": {
   "name": "python",
   "version": "3.8.2"
  },
  "orig_nbformat": 4,
  "vscode": {
   "interpreter": {
    "hash": "398dc28c06ad810e77de546bbdfa897a6ee0b83e59a5207339dda01a7843e01d"
   }
  }
 },
 "nbformat": 4,
 "nbformat_minor": 2
}
